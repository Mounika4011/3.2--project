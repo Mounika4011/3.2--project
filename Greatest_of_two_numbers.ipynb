{
  "nbformat": 4,
  "nbformat_minor": 0,
  "metadata": {
    "colab": {
      "provenance": [],
      "include_colab_link": true
    },
    "kernelspec": {
      "name": "python3",
      "display_name": "Python 3"
    },
    "language_info": {
      "name": "python"
    }
  },
  "cells": [
    {
      "cell_type": "markdown",
      "metadata": {
        "id": "view-in-github",
        "colab_type": "text"
      },
      "source": [
        "<a href=\"https://colab.research.google.com/github/Mounika4011/3.2--project/blob/main/Greatest_of_two_numbers.ipynb\" target=\"_parent\"><img src=\"https://colab.research.google.com/assets/colab-badge.svg\" alt=\"Open In Colab\"/></a>"
      ]
    },
    {
      "cell_type": "code",
      "execution_count": null,
      "metadata": {
        "colab": {
          "base_uri": "https://localhost:8080/"
        },
        "id": "Qj_y0DJLeKhf",
        "outputId": "4ac58156-f7c8-4a78-987a-289b5a08a2b9"
      },
      "outputs": [
        {
          "output_type": "stream",
          "name": "stdout",
          "text": [
            "Enter the first number:10\n",
            "Enter the second number:15\n",
            "15\n"
          ]
        }
      ],
      "source": [
        "n1=int(input(\"Enter the first number:\"))\n",
        "n2=int(input(\"Enter the second number:\"))\n",
        "if n1 > n2:\n",
        "    print(n1)\n",
        "elif n2 > n1:\n",
        "    print(n2)\n",
        "else:\n",
        "    print(\"equal\")"
      ]
    }
  ]
}